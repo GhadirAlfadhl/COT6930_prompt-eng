{
 "cells": [
  {
   "cell_type": "markdown",
   "metadata": {},
   "source": [
    "# Generate Knowledge Prompting\n",
    "Generated Knowledge Prompting is a technique in prompt engineering where the model first generates relevant background knowledge about a query before attempting to answer it. This approach enhances the model's ability to reason and provide accurate responses by explicitly prompting it to recall or infer useful context.\n",
    "\n",
    "Instead of relying solely on its pre-trained knowledge, the model is first asked to generate foundational information related to the task. This generated knowledge is then incorporated into a second prompt to improve the quality and depth of the final response.\n",
    "\n",
    "\n",
    "\n"
   ]
  },
  {
   "cell_type": "markdown",
   "metadata": {},
   "source": [
    "## Running this code on MyBind.org\n",
    "\n",
    "Note: remember that you will need to **adjust CONFIG** with **proper URL and API_KEY**!\n",
    "\n",
    "[![Binder](https://mybinder.org/badge_logo.svg)](https://mybinder.org/v2/gh/GenILab-FAU/prompt-eng/HEAD?urlpath=%2Fdoc%2Ftree%2Fprompt-eng%2Fzero_shot.ipynb)\n"
   ]
  },
  {
   "cell_type": "code",
   "execution_count": 3,
   "metadata": {},
   "outputs": [
    {
     "name": "stdout",
     "output_type": "stream",
     "text": [
      "{'model': 'llama3.2', 'prompt': 'Generate background knowledge about different access control models: DAC, MAC, RBAC, ABAC.', 'stream': False, 'options': {'temperature': 1.0, 'num_ctx': 200, 'num_predict': 150}}\n",
      "Generated Knowledge:\n",
      "Here's some background knowledge on the different access control models:\n",
      "\n",
      "**1. Discretionary Access Control (DAC)**\n",
      "\n",
      "Discretionary Access Control is a model where the access rights to a resource are granted by the owner of that resource. The owner has the authority to decide who can access their resources and what actions they can perform.\n",
      "\n",
      "In DAC, the access control list (ACL) is maintained by the owner of the resource, and it specifies which users or groups have been granted access to the resource. This model is often used in operating systems where the user is responsible for managing their own permissions.\n",
      "\n",
      "**Pros:** Easy to implement, allows for fine-grained access control\n",
      "**Cons:** Can lead to abuse of power if an owner gives excessive permissions\n",
      "\n",
      "{'model': 'llama3.2', 'prompt': \"Using the following knowledge, classify the access control model in this scenario:\\n\\nKnowledge:\\nHere's some background knowledge on the different access control models:\\n\\n**1. Discretionary Access Control (DAC)**\\n\\nDiscretionary Access Control is a model where the access rights to a resource are granted by the owner of that resource. The owner has the authority to decide who can access their resources and what actions they can perform.\\n\\nIn DAC, the access control list (ACL) is maintained by the owner of the resource, and it specifies which users or groups have been granted access to the resource. This model is often used in operating systems where the user is responsible for managing their own permissions.\\n\\n**Pros:** Easy to implement, allows for fine-grained access control\\n**Cons:** Can lead to abuse of power if an owner gives excessive permissions\\n\\nScenario:\\nA system grants permissions based on the user's role in the organization, such as manager, employee, or auditor.\", 'stream': False, 'options': {'temperature': 1.0, 'num_ctx': 200, 'num_predict': 150}}\n",
      "Final Classification:\n",
      "Based on the scenario provided, I would classify the system's permission granting mechanism as:\n",
      "\n",
      "**Model:** Role-Based Access Control (RBAC)\n",
      "\n",
      "**Why:**\n",
      "\n",
      "* The system grants permissions based on a user's role in the organization.\n",
      "* This implies that users are assigned roles rather than individual permissions, which is a characteristic of RBAC.\n",
      "* RBAC is often used to manage access control in organizations where multiple users share similar responsibilities and need access to certain resources.\n",
      "\n",
      "Therefore, the answer is: **Role-Based Access Control (RBAC)**.\n",
      "\n",
      "Total Time Taken: 26.971s\n"
     ]
    }
   ],
   "source": [
    "##\n",
    "## GENERATE KNOWLEDGE PROMPTING\n",
    "##\n",
    "from _pipeline import create_payload, model_req\n",
    "\n",
    "MESSAGE = \"A system grants permissions based on the user's role in the organization, such as manager, employee, or auditor.\"\n",
    "\n",
    "#### (1) Generate background knowledge\n",
    "PROMPT_KNOWLEDGE = \"Generate background knowledge about different access control models: DAC, MAC, RBAC, ABAC.\"\n",
    "\n",
    "payload_knowledge = create_payload(target=\"ollama\",\n",
    "                                   model=\"llama3.2\", \n",
    "                                   prompt=PROMPT_KNOWLEDGE, \n",
    "                                   temperature=1.0, \n",
    "                                   num_ctx=200, \n",
    "                                   num_predict=150)\n",
    "\n",
    "time_1, knowledge_response = model_req(payload=payload_knowledge)\n",
    "print(f\"Generated Knowledge:\\n{knowledge_response}\\n\")\n",
    "\n",
    "#### (2) Use the knowledge to classify the scenario\n",
    "PROMPT_FINAL = f\"Using the following knowledge, classify the access control model in this scenario:\\n\\nKnowledge:\\n{knowledge_response}\\n\\nScenario:\\n{MESSAGE}\"\n",
    "\n",
    "payload_final = create_payload(target=\"ollama\",\n",
    "                               model=\"llama3.2\", \n",
    "                               prompt=PROMPT_FINAL, \n",
    "                               temperature=1.0, \n",
    "                               num_ctx=200, \n",
    "                               num_predict=150)\n",
    "\n",
    "time_2, final_response = model_req(payload=payload_final)\n",
    "print(f\"Final Classification:\\n{final_response}\\n\")\n",
    "\n",
    "if time_2: print(f'Total Time Taken: {time_1 + time_2}s' if time_1 else f'Time Taken: {time_2}s')\n",
    "\n"
   ]
  }
 ],
 "metadata": {
  "kernelspec": {
   "display_name": "Python 3",
   "language": "python",
   "name": "python3"
  },
  "language_info": {
   "codemirror_mode": {
    "name": "ipython",
    "version": 3
   },
   "file_extension": ".py",
   "mimetype": "text/x-python",
   "name": "python",
   "nbconvert_exporter": "python",
   "pygments_lexer": "ipython3",
   "version": "3.13.1"
  }
 },
 "nbformat": 4,
 "nbformat_minor": 2
}
