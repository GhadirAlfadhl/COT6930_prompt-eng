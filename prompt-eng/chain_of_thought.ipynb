{
 "cells": [
  {
   "cell_type": "markdown",
   "metadata": {},
   "source": [
    "\n",
    "\n"
   ]
  },
  {
   "cell_type": "markdown",
   "metadata": {},
   "source": [
    "# Chain-of-Thought Prompting\n",
    "\n",
    "Chain-of-Thought (CoT) prompting enhances complex reasoning by encouraging the model to break down problems into intermediate reasoning steps. When combined with few-shot prompting, it can significantly improve performance on tasks that require multi-step reasoning before arriving at a response.\n",
    "\n",
    "## Automatic Chain-of-Thought (Auto-CoT)\n",
    "\n",
    "Traditionally, using CoT prompting with demonstrations involves manually crafting diverse and effective examples. This manual effort is time-consuming and can lead to less-than-optimal results. To address this, Zhang et al. (2022) introduced Auto-CoT, an automated approach that minimizes manual involvement. Their method uses the prompt “Let’s think step by step” to generate reasoning chains automatically for demonstrations. However, this automatic process is not immune to errors. To reduce the impact of such mistakes, the approach emphasizes the importance of diverse demonstrations.\n",
    "\n",
    "Auto-CoT operates in two main stages:\n",
    "\n",
    "1. **Question Clustering:** Questions from the dataset are grouped into clusters based on similarity or relevance.\n",
    "2. **Demonstration Sampling:** A representative question from each cluster is selected, and its reasoning chain is generated using Zero-Shot-CoT guided by simple heuristics.\n",
    "\n",
    "\n",
    "## References:\n",
    "\n",
    "* (Wei et al. (2022),)[https://arxiv.org/abs/2201.11903]\n",
    "* (OpenAI Documentation for Prompt Engineering)[https://platform.openai.com/docs/guides/prompt-engineering]"
   ]
  },
  {
   "cell_type": "markdown",
   "metadata": {},
   "source": [
    "## Running this code on MyBind.org\n",
    "\n",
    "Note: remember that you will need to **adjust CONFIG** with **proper URL and API_KEY**!\n",
    "\n",
    "[![Binder](https://mybinder.org/badge_logo.svg)](https://mybinder.org/v2/gh/GenILab-FAU/prompt-eng/HEAD?urlpath=%2Fdoc%2Ftree%2Fprompt-eng%2Fchain_of_thought.ipynb)\n"
   ]
  },
  {
   "cell_type": "code",
   "execution_count": 3,
   "metadata": {},
   "outputs": [
    {
     "name": "stdout",
     "output_type": "stream",
     "text": [
      "{'model': 'llama3.2', 'prompt': \"\\nLet's think step-by-step.\\n- The system assigns permissions not to individual users, but based on roles.\\n- These roles correspond to positions within the organization (e.g., manager, employee).\\n- This is typical of Role-Based Access Control (RBAC), where roles determine access rights.\\nTherefore, the model is: Role-Based Access Control (RBAC).\\n\", 'stream': False, 'options': {'temperature': 1.0, 'num_ctx': 100, 'num_predict': 100}}\n",
      "That's correct. The system model can be classified as Role-Based Access Control (RBAC) because:\n",
      "\n",
      "1. Roles determine access rights\n",
      "2. Access control is based on roles, rather than individual users or resources.\n",
      "\n",
      "This means that users are assigned to specific roles and have permission to perform certain actions based on the role they hold. For example, an administrator might be a member of the \"Administrator\" role, while a user who has created content is a member of the \"Content Creator\" role\n",
      "Time taken: 9.658s\n"
     ]
    }
   ],
   "source": [
    "##\n",
    "## CHAIN-OF-THOUGHT PROMPTING\n",
    "##\n",
    "from _pipeline import create_payload, model_req\n",
    "\n",
    "MESSAGE = \"A system grants permissions based on the user's role in the organization, such as manager, employee, or auditor.\"\n",
    "\n",
    "PROMPT = f\"\"\"\n",
    "Let's think step-by-step.\n",
    "- The system assigns permissions not to individual users, but based on roles.\n",
    "- These roles correspond to positions within the organization (e.g., manager, employee).\n",
    "- This is typical of Role-Based Access Control (RBAC), where roles determine access rights.\n",
    "Therefore, the model is: Role-Based Access Control (RBAC).\n",
    "\"\"\"\n",
    "\n",
    "payload = create_payload(target=\"ollama\",\n",
    "                         model=\"llama3.2\",\n",
    "                         prompt=PROMPT,\n",
    "                         temperature=1.0,\n",
    "                         num_ctx=100,\n",
    "                         num_predict=100)\n",
    "\n",
    "time, response = model_req(payload=payload)\n",
    "print(response)\n",
    "if time: print(f'Time taken: {time}s')\n",
    "\n"
   ]
  }
 ],
 "metadata": {
  "kernelspec": {
   "display_name": "Python 3",
   "language": "python",
   "name": "python3"
  },
  "language_info": {
   "codemirror_mode": {
    "name": "ipython",
    "version": 3
   },
   "file_extension": ".py",
   "mimetype": "text/x-python",
   "name": "python",
   "nbconvert_exporter": "python",
   "pygments_lexer": "ipython3",
   "version": "3.13.1"
  }
 },
 "nbformat": 4,
 "nbformat_minor": 2
}
