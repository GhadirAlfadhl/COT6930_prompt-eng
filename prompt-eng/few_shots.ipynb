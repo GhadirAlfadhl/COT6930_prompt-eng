{
 "cells": [
  {
   "cell_type": "markdown",
   "metadata": {},
   "source": [
    "\n",
    "\n"
   ]
  },
  {
   "cell_type": "markdown",
   "metadata": {},
   "source": [
    "# Few-Shots Prompting\n",
    "\n",
    "Few-shot prompting can be used as a technique to enable in-context learning where we provide demonstrations in the prompt to steer the model to better performance. The demonstrations serve as conditioning for subsequent examples where we would like the model to generate a response.\n",
    "\n",
    "## References:\n",
    "* [Touvron et al. 2023](https://arxiv.org/pdf/2302.13971.pdf): present few shot properties  when models were scaled to a sufficient size\n",
    "* [Kaplan et al., 2020](https://arxiv.org/abs/2001.08361)\n",
    "* [Brown et al. 2020](https://arxiv.org/abs/2005.14165)\n"
   ]
  },
  {
   "cell_type": "markdown",
   "metadata": {},
   "source": [
    "## Running this code on MyBind.org\n",
    "\n",
    "Note: remember that you will need to **adjust CONFIG** with **proper URL and API_KEY**!\n",
    "\n",
    "[![Binder](https://mybinder.org/badge_logo.svg)](https://mybinder.org/v2/gh/GenILab-FAU/prompt-eng/HEAD?urlpath=%2Fdoc%2Ftree%2Fprompt-eng%2Ffew_shots.ipynb)\n",
    "\n"
   ]
  },
  {
   "cell_type": "code",
   "execution_count": 9,
   "metadata": {},
   "outputs": [
    {
     "name": "stdout",
     "output_type": "stream",
     "text": [
      "{'model': 'llama3.2', 'prompt': \"\\nYou are a cybersecurity tutor. Identify the access control model.\\n\\nExample 1:\\n'A system where users can set file permissions for other users.' → Discretionary Access Control (DAC)\\n\\nExample 2:\\n'A system that uses security labels and enforces access based on policy rules and clearances.' → Mandatory Access Control (MAC)\\n\\nExample 3:\\n'A system that assigns access based on job functions such as developer, analyst, or administrator.' → Role-Based Access Control (RBAC)\\n\\nNow, classify this scenario:\\n'A system grants permissions based on the user's role in the organization, such as manager, employee, or auditor.' →\", 'stream': False, 'options': {'temperature': 1.0, 'num_ctx': 100, 'num_predict': 100}}\n",
      "Role-Based Access Control (RBAC)\n",
      "Time taken: 3.054s\n"
     ]
    }
   ],
   "source": [
    "##\n",
    "## FEW SHOT PROMPTING\n",
    "##\n",
    "\n",
    "from _pipeline import create_payload, model_req\n",
    "\n",
    "MESSAGE = \"A system grants permissions based on the user's role in the organization, such as manager, employee, or auditor.\"\n",
    "\n",
    "PROMPT = f\"\"\"\n",
    "You are a cybersecurity tutor. Identify the access control model.\n",
    "\n",
    "Example 1:\n",
    "'A system where users can set file permissions for other users.' → Discretionary Access Control (DAC)\n",
    "\n",
    "Example 2:\n",
    "'A system that uses security labels and enforces access based on policy rules and clearances.' → Mandatory Access Control (MAC)\n",
    "\n",
    "Example 3:\n",
    "'A system that assigns access based on job functions such as developer, analyst, or administrator.' → Role-Based Access Control (RBAC)\n",
    "\n",
    "Now, classify this scenario:\n",
    "'{MESSAGE}' →\"\"\"\n",
    "\n",
    "payload = create_payload(target=\"ollama\",\n",
    "                         model=\"llama3.2\",\n",
    "                         prompt=PROMPT,\n",
    "                         temperature=1.0,\n",
    "                         num_ctx=100,\n",
    "                         num_predict=100)\n",
    "\n",
    "time, response = model_req(payload=payload)\n",
    "print(response)\n",
    "if time: print(f'Time taken: {time}s')\n"
   ]
  },
  {
   "cell_type": "markdown",
   "metadata": {},
   "source": [
    "## How to improve it?\n",
    "\n",
    "Following the findings from [Min et al. (2022)](https://arxiv.org/abs/2202.12837), here are a few more tips about demonstrations/exemplars when doing few-shot:\n",
    "\n",
    "* \"the label space and the distribution of the input text specified by the demonstrations are both important (regardless of whether the labels are correct for individual inputs)\"\n",
    "* the format you use also plays a key role in performance, even if you just use random labels, this is much better than no labels at all.\n",
    "* additional results show that selecting random labels from a true distribution of labels (instead of a uniform distribution) also helps."
   ]
  }
 ],
 "metadata": {
  "kernelspec": {
   "display_name": "Python 3",
   "language": "python",
   "name": "python3"
  },
  "language_info": {
   "codemirror_mode": {
    "name": "ipython",
    "version": 3
   },
   "file_extension": ".py",
   "mimetype": "text/x-python",
   "name": "python",
   "nbconvert_exporter": "python",
   "pygments_lexer": "ipython3",
   "version": "3.13.1"
  }
 },
 "nbformat": 4,
 "nbformat_minor": 2
}
